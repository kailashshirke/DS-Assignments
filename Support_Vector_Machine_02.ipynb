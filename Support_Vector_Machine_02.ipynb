{
  "cells": [
    {
      "cell_type": "markdown",
      "metadata": {
        "id": "view-in-github",
        "colab_type": "text"
      },
      "source": [
        "<a href=\"https://colab.research.google.com/github/kailashshirke/DS-Assignments/blob/main/Support_Vector_Machine_02.ipynb\" target=\"_parent\"><img src=\"https://colab.research.google.com/assets/colab-badge.svg\" alt=\"Open In Colab\"/></a>"
      ]
    },
    {
      "cell_type": "markdown",
      "metadata": {
        "id": "KWmaAd7ion8c"
      },
      "source": [
        "#### Dataset: SalaryData_Test(1).csv, SalaryData_Train(1).csv\n"
      ]
    },
    {
      "cell_type": "code",
      "execution_count": 1,
      "metadata": {
        "id": "AXZthq-Eon8c"
      },
      "outputs": [],
      "source": [
        "# Importig Libraries\n",
        "import pandas as pd\n",
        "import numpy as np\n",
        "import matplotlib.pyplot as plt\n",
        "from sklearn.feature_extraction.text import CountVectorizer, TfidfVectorizer\n",
        "from sklearn.preprocessing import StandardScaler\n",
        "\n",
        "from sklearn import svm\n",
        "from sklearn.svm import SVC\n",
        "from sklearn.model_selection import GridSearchCV\n",
        "from sklearn.metrics import classification_report\n",
        "\n",
        "\n",
        "from sklearn.metrics import accuracy_score, confusion_matrix\n",
        "from sklearn.model_selection import train_test_split, cross_val_score"
      ]
    },
    {
      "cell_type": "code",
      "execution_count": 2,
      "metadata": {
        "id": "dnOgLYwlon8e"
      },
      "outputs": [],
      "source": [
        "# Loading data\n",
        "train_data = pd.read_csv('SalaryData_Train(1).csv')\n",
        "test_data = pd.read_csv('SalaryData_Test(1).csv')"
      ]
    },
    {
      "cell_type": "markdown",
      "metadata": {
        "id": "_SwZUy3_on8e"
      },
      "source": [
        "### EDA &  Data Preprocessing"
      ]
    },
    {
      "cell_type": "code",
      "execution_count": 3,
      "metadata": {
        "colab": {
          "base_uri": "https://localhost:8080/"
        },
        "id": "OuEVM4Yion8e",
        "outputId": "29203743-d3c8-43ed-ac53-c72b66a4239e"
      },
      "outputs": [
        {
          "output_type": "execute_result",
          "data": {
            "text/plain": [
              "(30161, 14)"
            ]
          },
          "metadata": {},
          "execution_count": 3
        }
      ],
      "source": [
        "train_data.shape"
      ]
    },
    {
      "cell_type": "code",
      "execution_count": 4,
      "metadata": {
        "colab": {
          "base_uri": "https://localhost:8080/"
        },
        "id": "yCm233jaon8f",
        "outputId": "1c415c75-fab3-4a1a-b0c7-a309a0649999"
      },
      "outputs": [
        {
          "output_type": "execute_result",
          "data": {
            "text/plain": [
              "(15060, 14)"
            ]
          },
          "metadata": {},
          "execution_count": 4
        }
      ],
      "source": [
        "test_data.shape"
      ]
    },
    {
      "cell_type": "code",
      "execution_count": 5,
      "metadata": {
        "colab": {
          "base_uri": "https://localhost:8080/",
          "height": 357
        },
        "id": "5Zgo8MrMon8g",
        "outputId": "452bd975-970a-471d-d992-bc5d422ba3bd"
      },
      "outputs": [
        {
          "output_type": "execute_result",
          "data": {
            "text/html": [
              "\n",
              "  <div id=\"df-506ca8fc-8b92-48cd-b06d-156ffa3339d3\">\n",
              "    <div class=\"colab-df-container\">\n",
              "      <div>\n",
              "<style scoped>\n",
              "    .dataframe tbody tr th:only-of-type {\n",
              "        vertical-align: middle;\n",
              "    }\n",
              "\n",
              "    .dataframe tbody tr th {\n",
              "        vertical-align: top;\n",
              "    }\n",
              "\n",
              "    .dataframe thead th {\n",
              "        text-align: right;\n",
              "    }\n",
              "</style>\n",
              "<table border=\"1\" class=\"dataframe\">\n",
              "  <thead>\n",
              "    <tr style=\"text-align: right;\">\n",
              "      <th></th>\n",
              "      <th>age</th>\n",
              "      <th>workclass</th>\n",
              "      <th>education</th>\n",
              "      <th>educationno</th>\n",
              "      <th>maritalstatus</th>\n",
              "      <th>occupation</th>\n",
              "      <th>relationship</th>\n",
              "      <th>race</th>\n",
              "      <th>sex</th>\n",
              "      <th>capitalgain</th>\n",
              "      <th>capitalloss</th>\n",
              "      <th>hoursperweek</th>\n",
              "      <th>native</th>\n",
              "      <th>Salary</th>\n",
              "    </tr>\n",
              "  </thead>\n",
              "  <tbody>\n",
              "    <tr>\n",
              "      <th>0</th>\n",
              "      <td>39</td>\n",
              "      <td>State-gov</td>\n",
              "      <td>Bachelors</td>\n",
              "      <td>13</td>\n",
              "      <td>Never-married</td>\n",
              "      <td>Adm-clerical</td>\n",
              "      <td>Not-in-family</td>\n",
              "      <td>White</td>\n",
              "      <td>Male</td>\n",
              "      <td>2174</td>\n",
              "      <td>0</td>\n",
              "      <td>40</td>\n",
              "      <td>United-States</td>\n",
              "      <td>&lt;=50K</td>\n",
              "    </tr>\n",
              "    <tr>\n",
              "      <th>1</th>\n",
              "      <td>50</td>\n",
              "      <td>Self-emp-not-inc</td>\n",
              "      <td>Bachelors</td>\n",
              "      <td>13</td>\n",
              "      <td>Married-civ-spouse</td>\n",
              "      <td>Exec-managerial</td>\n",
              "      <td>Husband</td>\n",
              "      <td>White</td>\n",
              "      <td>Male</td>\n",
              "      <td>0</td>\n",
              "      <td>0</td>\n",
              "      <td>13</td>\n",
              "      <td>United-States</td>\n",
              "      <td>&lt;=50K</td>\n",
              "    </tr>\n",
              "    <tr>\n",
              "      <th>2</th>\n",
              "      <td>38</td>\n",
              "      <td>Private</td>\n",
              "      <td>HS-grad</td>\n",
              "      <td>9</td>\n",
              "      <td>Divorced</td>\n",
              "      <td>Handlers-cleaners</td>\n",
              "      <td>Not-in-family</td>\n",
              "      <td>White</td>\n",
              "      <td>Male</td>\n",
              "      <td>0</td>\n",
              "      <td>0</td>\n",
              "      <td>40</td>\n",
              "      <td>United-States</td>\n",
              "      <td>&lt;=50K</td>\n",
              "    </tr>\n",
              "    <tr>\n",
              "      <th>3</th>\n",
              "      <td>53</td>\n",
              "      <td>Private</td>\n",
              "      <td>11th</td>\n",
              "      <td>7</td>\n",
              "      <td>Married-civ-spouse</td>\n",
              "      <td>Handlers-cleaners</td>\n",
              "      <td>Husband</td>\n",
              "      <td>Black</td>\n",
              "      <td>Male</td>\n",
              "      <td>0</td>\n",
              "      <td>0</td>\n",
              "      <td>40</td>\n",
              "      <td>United-States</td>\n",
              "      <td>&lt;=50K</td>\n",
              "    </tr>\n",
              "    <tr>\n",
              "      <th>4</th>\n",
              "      <td>28</td>\n",
              "      <td>Private</td>\n",
              "      <td>Bachelors</td>\n",
              "      <td>13</td>\n",
              "      <td>Married-civ-spouse</td>\n",
              "      <td>Prof-specialty</td>\n",
              "      <td>Wife</td>\n",
              "      <td>Black</td>\n",
              "      <td>Female</td>\n",
              "      <td>0</td>\n",
              "      <td>0</td>\n",
              "      <td>40</td>\n",
              "      <td>Cuba</td>\n",
              "      <td>&lt;=50K</td>\n",
              "    </tr>\n",
              "  </tbody>\n",
              "</table>\n",
              "</div>\n",
              "      <button class=\"colab-df-convert\" onclick=\"convertToInteractive('df-506ca8fc-8b92-48cd-b06d-156ffa3339d3')\"\n",
              "              title=\"Convert this dataframe to an interactive table.\"\n",
              "              style=\"display:none;\">\n",
              "        \n",
              "  <svg xmlns=\"http://www.w3.org/2000/svg\" height=\"24px\"viewBox=\"0 0 24 24\"\n",
              "       width=\"24px\">\n",
              "    <path d=\"M0 0h24v24H0V0z\" fill=\"none\"/>\n",
              "    <path d=\"M18.56 5.44l.94 2.06.94-2.06 2.06-.94-2.06-.94-.94-2.06-.94 2.06-2.06.94zm-11 1L8.5 8.5l.94-2.06 2.06-.94-2.06-.94L8.5 2.5l-.94 2.06-2.06.94zm10 10l.94 2.06.94-2.06 2.06-.94-2.06-.94-.94-2.06-.94 2.06-2.06.94z\"/><path d=\"M17.41 7.96l-1.37-1.37c-.4-.4-.92-.59-1.43-.59-.52 0-1.04.2-1.43.59L10.3 9.45l-7.72 7.72c-.78.78-.78 2.05 0 2.83L4 21.41c.39.39.9.59 1.41.59.51 0 1.02-.2 1.41-.59l7.78-7.78 2.81-2.81c.8-.78.8-2.07 0-2.86zM5.41 20L4 18.59l7.72-7.72 1.47 1.35L5.41 20z\"/>\n",
              "  </svg>\n",
              "      </button>\n",
              "      \n",
              "  <style>\n",
              "    .colab-df-container {\n",
              "      display:flex;\n",
              "      flex-wrap:wrap;\n",
              "      gap: 12px;\n",
              "    }\n",
              "\n",
              "    .colab-df-convert {\n",
              "      background-color: #E8F0FE;\n",
              "      border: none;\n",
              "      border-radius: 50%;\n",
              "      cursor: pointer;\n",
              "      display: none;\n",
              "      fill: #1967D2;\n",
              "      height: 32px;\n",
              "      padding: 0 0 0 0;\n",
              "      width: 32px;\n",
              "    }\n",
              "\n",
              "    .colab-df-convert:hover {\n",
              "      background-color: #E2EBFA;\n",
              "      box-shadow: 0px 1px 2px rgba(60, 64, 67, 0.3), 0px 1px 3px 1px rgba(60, 64, 67, 0.15);\n",
              "      fill: #174EA6;\n",
              "    }\n",
              "\n",
              "    [theme=dark] .colab-df-convert {\n",
              "      background-color: #3B4455;\n",
              "      fill: #D2E3FC;\n",
              "    }\n",
              "\n",
              "    [theme=dark] .colab-df-convert:hover {\n",
              "      background-color: #434B5C;\n",
              "      box-shadow: 0px 1px 3px 1px rgba(0, 0, 0, 0.15);\n",
              "      filter: drop-shadow(0px 1px 2px rgba(0, 0, 0, 0.3));\n",
              "      fill: #FFFFFF;\n",
              "    }\n",
              "  </style>\n",
              "\n",
              "      <script>\n",
              "        const buttonEl =\n",
              "          document.querySelector('#df-506ca8fc-8b92-48cd-b06d-156ffa3339d3 button.colab-df-convert');\n",
              "        buttonEl.style.display =\n",
              "          google.colab.kernel.accessAllowed ? 'block' : 'none';\n",
              "\n",
              "        async function convertToInteractive(key) {\n",
              "          const element = document.querySelector('#df-506ca8fc-8b92-48cd-b06d-156ffa3339d3');\n",
              "          const dataTable =\n",
              "            await google.colab.kernel.invokeFunction('convertToInteractive',\n",
              "                                                     [key], {});\n",
              "          if (!dataTable) return;\n",
              "\n",
              "          const docLinkHtml = 'Like what you see? Visit the ' +\n",
              "            '<a target=\"_blank\" href=https://colab.research.google.com/notebooks/data_table.ipynb>data table notebook</a>'\n",
              "            + ' to learn more about interactive tables.';\n",
              "          element.innerHTML = '';\n",
              "          dataTable['output_type'] = 'display_data';\n",
              "          await google.colab.output.renderOutput(dataTable, element);\n",
              "          const docLink = document.createElement('div');\n",
              "          docLink.innerHTML = docLinkHtml;\n",
              "          element.appendChild(docLink);\n",
              "        }\n",
              "      </script>\n",
              "    </div>\n",
              "  </div>\n",
              "  "
            ],
            "text/plain": [
              "   age          workclass   education  ...  hoursperweek          native  Salary\n",
              "0   39          State-gov   Bachelors  ...            40   United-States   <=50K\n",
              "1   50   Self-emp-not-inc   Bachelors  ...            13   United-States   <=50K\n",
              "2   38            Private     HS-grad  ...            40   United-States   <=50K\n",
              "3   53            Private        11th  ...            40   United-States   <=50K\n",
              "4   28            Private   Bachelors  ...            40            Cuba   <=50K\n",
              "\n",
              "[5 rows x 14 columns]"
            ]
          },
          "metadata": {},
          "execution_count": 5
        }
      ],
      "source": [
        "train_data.head()"
      ]
    },
    {
      "cell_type": "code",
      "execution_count": 6,
      "metadata": {
        "colab": {
          "base_uri": "https://localhost:8080/",
          "height": 357
        },
        "id": "UWQGa4r_on8g",
        "outputId": "7be0ed70-4b21-4931-c99b-28c0e61e1261"
      },
      "outputs": [
        {
          "output_type": "execute_result",
          "data": {
            "text/html": [
              "\n",
              "  <div id=\"df-2bb31101-84c5-4038-b624-32ed6a431692\">\n",
              "    <div class=\"colab-df-container\">\n",
              "      <div>\n",
              "<style scoped>\n",
              "    .dataframe tbody tr th:only-of-type {\n",
              "        vertical-align: middle;\n",
              "    }\n",
              "\n",
              "    .dataframe tbody tr th {\n",
              "        vertical-align: top;\n",
              "    }\n",
              "\n",
              "    .dataframe thead th {\n",
              "        text-align: right;\n",
              "    }\n",
              "</style>\n",
              "<table border=\"1\" class=\"dataframe\">\n",
              "  <thead>\n",
              "    <tr style=\"text-align: right;\">\n",
              "      <th></th>\n",
              "      <th>age</th>\n",
              "      <th>workclass</th>\n",
              "      <th>education</th>\n",
              "      <th>educationno</th>\n",
              "      <th>maritalstatus</th>\n",
              "      <th>occupation</th>\n",
              "      <th>relationship</th>\n",
              "      <th>race</th>\n",
              "      <th>sex</th>\n",
              "      <th>capitalgain</th>\n",
              "      <th>capitalloss</th>\n",
              "      <th>hoursperweek</th>\n",
              "      <th>native</th>\n",
              "      <th>Salary</th>\n",
              "    </tr>\n",
              "  </thead>\n",
              "  <tbody>\n",
              "    <tr>\n",
              "      <th>0</th>\n",
              "      <td>25</td>\n",
              "      <td>Private</td>\n",
              "      <td>11th</td>\n",
              "      <td>7</td>\n",
              "      <td>Never-married</td>\n",
              "      <td>Machine-op-inspct</td>\n",
              "      <td>Own-child</td>\n",
              "      <td>Black</td>\n",
              "      <td>Male</td>\n",
              "      <td>0</td>\n",
              "      <td>0</td>\n",
              "      <td>40</td>\n",
              "      <td>United-States</td>\n",
              "      <td>&lt;=50K</td>\n",
              "    </tr>\n",
              "    <tr>\n",
              "      <th>1</th>\n",
              "      <td>38</td>\n",
              "      <td>Private</td>\n",
              "      <td>HS-grad</td>\n",
              "      <td>9</td>\n",
              "      <td>Married-civ-spouse</td>\n",
              "      <td>Farming-fishing</td>\n",
              "      <td>Husband</td>\n",
              "      <td>White</td>\n",
              "      <td>Male</td>\n",
              "      <td>0</td>\n",
              "      <td>0</td>\n",
              "      <td>50</td>\n",
              "      <td>United-States</td>\n",
              "      <td>&lt;=50K</td>\n",
              "    </tr>\n",
              "    <tr>\n",
              "      <th>2</th>\n",
              "      <td>28</td>\n",
              "      <td>Local-gov</td>\n",
              "      <td>Assoc-acdm</td>\n",
              "      <td>12</td>\n",
              "      <td>Married-civ-spouse</td>\n",
              "      <td>Protective-serv</td>\n",
              "      <td>Husband</td>\n",
              "      <td>White</td>\n",
              "      <td>Male</td>\n",
              "      <td>0</td>\n",
              "      <td>0</td>\n",
              "      <td>40</td>\n",
              "      <td>United-States</td>\n",
              "      <td>&gt;50K</td>\n",
              "    </tr>\n",
              "    <tr>\n",
              "      <th>3</th>\n",
              "      <td>44</td>\n",
              "      <td>Private</td>\n",
              "      <td>Some-college</td>\n",
              "      <td>10</td>\n",
              "      <td>Married-civ-spouse</td>\n",
              "      <td>Machine-op-inspct</td>\n",
              "      <td>Husband</td>\n",
              "      <td>Black</td>\n",
              "      <td>Male</td>\n",
              "      <td>7688</td>\n",
              "      <td>0</td>\n",
              "      <td>40</td>\n",
              "      <td>United-States</td>\n",
              "      <td>&gt;50K</td>\n",
              "    </tr>\n",
              "    <tr>\n",
              "      <th>4</th>\n",
              "      <td>34</td>\n",
              "      <td>Private</td>\n",
              "      <td>10th</td>\n",
              "      <td>6</td>\n",
              "      <td>Never-married</td>\n",
              "      <td>Other-service</td>\n",
              "      <td>Not-in-family</td>\n",
              "      <td>White</td>\n",
              "      <td>Male</td>\n",
              "      <td>0</td>\n",
              "      <td>0</td>\n",
              "      <td>30</td>\n",
              "      <td>United-States</td>\n",
              "      <td>&lt;=50K</td>\n",
              "    </tr>\n",
              "  </tbody>\n",
              "</table>\n",
              "</div>\n",
              "      <button class=\"colab-df-convert\" onclick=\"convertToInteractive('df-2bb31101-84c5-4038-b624-32ed6a431692')\"\n",
              "              title=\"Convert this dataframe to an interactive table.\"\n",
              "              style=\"display:none;\">\n",
              "        \n",
              "  <svg xmlns=\"http://www.w3.org/2000/svg\" height=\"24px\"viewBox=\"0 0 24 24\"\n",
              "       width=\"24px\">\n",
              "    <path d=\"M0 0h24v24H0V0z\" fill=\"none\"/>\n",
              "    <path d=\"M18.56 5.44l.94 2.06.94-2.06 2.06-.94-2.06-.94-.94-2.06-.94 2.06-2.06.94zm-11 1L8.5 8.5l.94-2.06 2.06-.94-2.06-.94L8.5 2.5l-.94 2.06-2.06.94zm10 10l.94 2.06.94-2.06 2.06-.94-2.06-.94-.94-2.06-.94 2.06-2.06.94z\"/><path d=\"M17.41 7.96l-1.37-1.37c-.4-.4-.92-.59-1.43-.59-.52 0-1.04.2-1.43.59L10.3 9.45l-7.72 7.72c-.78.78-.78 2.05 0 2.83L4 21.41c.39.39.9.59 1.41.59.51 0 1.02-.2 1.41-.59l7.78-7.78 2.81-2.81c.8-.78.8-2.07 0-2.86zM5.41 20L4 18.59l7.72-7.72 1.47 1.35L5.41 20z\"/>\n",
              "  </svg>\n",
              "      </button>\n",
              "      \n",
              "  <style>\n",
              "    .colab-df-container {\n",
              "      display:flex;\n",
              "      flex-wrap:wrap;\n",
              "      gap: 12px;\n",
              "    }\n",
              "\n",
              "    .colab-df-convert {\n",
              "      background-color: #E8F0FE;\n",
              "      border: none;\n",
              "      border-radius: 50%;\n",
              "      cursor: pointer;\n",
              "      display: none;\n",
              "      fill: #1967D2;\n",
              "      height: 32px;\n",
              "      padding: 0 0 0 0;\n",
              "      width: 32px;\n",
              "    }\n",
              "\n",
              "    .colab-df-convert:hover {\n",
              "      background-color: #E2EBFA;\n",
              "      box-shadow: 0px 1px 2px rgba(60, 64, 67, 0.3), 0px 1px 3px 1px rgba(60, 64, 67, 0.15);\n",
              "      fill: #174EA6;\n",
              "    }\n",
              "\n",
              "    [theme=dark] .colab-df-convert {\n",
              "      background-color: #3B4455;\n",
              "      fill: #D2E3FC;\n",
              "    }\n",
              "\n",
              "    [theme=dark] .colab-df-convert:hover {\n",
              "      background-color: #434B5C;\n",
              "      box-shadow: 0px 1px 3px 1px rgba(0, 0, 0, 0.15);\n",
              "      filter: drop-shadow(0px 1px 2px rgba(0, 0, 0, 0.3));\n",
              "      fill: #FFFFFF;\n",
              "    }\n",
              "  </style>\n",
              "\n",
              "      <script>\n",
              "        const buttonEl =\n",
              "          document.querySelector('#df-2bb31101-84c5-4038-b624-32ed6a431692 button.colab-df-convert');\n",
              "        buttonEl.style.display =\n",
              "          google.colab.kernel.accessAllowed ? 'block' : 'none';\n",
              "\n",
              "        async function convertToInteractive(key) {\n",
              "          const element = document.querySelector('#df-2bb31101-84c5-4038-b624-32ed6a431692');\n",
              "          const dataTable =\n",
              "            await google.colab.kernel.invokeFunction('convertToInteractive',\n",
              "                                                     [key], {});\n",
              "          if (!dataTable) return;\n",
              "\n",
              "          const docLinkHtml = 'Like what you see? Visit the ' +\n",
              "            '<a target=\"_blank\" href=https://colab.research.google.com/notebooks/data_table.ipynb>data table notebook</a>'\n",
              "            + ' to learn more about interactive tables.';\n",
              "          element.innerHTML = '';\n",
              "          dataTable['output_type'] = 'display_data';\n",
              "          await google.colab.output.renderOutput(dataTable, element);\n",
              "          const docLink = document.createElement('div');\n",
              "          docLink.innerHTML = docLinkHtml;\n",
              "          element.appendChild(docLink);\n",
              "        }\n",
              "      </script>\n",
              "    </div>\n",
              "  </div>\n",
              "  "
            ],
            "text/plain": [
              "   age   workclass      education  ...  hoursperweek          native  Salary\n",
              "0   25     Private           11th  ...            40   United-States   <=50K\n",
              "1   38     Private        HS-grad  ...            50   United-States   <=50K\n",
              "2   28   Local-gov     Assoc-acdm  ...            40   United-States    >50K\n",
              "3   44     Private   Some-college  ...            40   United-States    >50K\n",
              "4   34     Private           10th  ...            30   United-States   <=50K\n",
              "\n",
              "[5 rows x 14 columns]"
            ]
          },
          "metadata": {},
          "execution_count": 6
        }
      ],
      "source": [
        "\n",
        "test_data.head()"
      ]
    },
    {
      "cell_type": "code",
      "execution_count": 7,
      "metadata": {
        "colab": {
          "base_uri": "https://localhost:8080/"
        },
        "id": "B38TdO1Won8h",
        "outputId": "f530b1bd-4885-4248-9de3-8359167e95cc"
      },
      "outputs": [
        {
          "output_type": "execute_result",
          "data": {
            "text/plain": [
              "age              0\n",
              "workclass        0\n",
              "education        0\n",
              "educationno      0\n",
              "maritalstatus    0\n",
              "occupation       0\n",
              "relationship     0\n",
              "race             0\n",
              "sex              0\n",
              "capitalgain      0\n",
              "capitalloss      0\n",
              "hoursperweek     0\n",
              "native           0\n",
              "Salary           0\n",
              "dtype: int64"
            ]
          },
          "metadata": {},
          "execution_count": 7
        }
      ],
      "source": [
        "# Checking for null values\n",
        "train_data.isna().sum()"
      ]
    },
    {
      "cell_type": "code",
      "execution_count": 8,
      "metadata": {
        "colab": {
          "base_uri": "https://localhost:8080/"
        },
        "id": "B83Z8-VIon8h",
        "outputId": "f25ac166-aead-4e44-e85b-8cadd12d6c9a"
      },
      "outputs": [
        {
          "output_type": "execute_result",
          "data": {
            "text/plain": [
              "age              0\n",
              "workclass        0\n",
              "education        0\n",
              "educationno      0\n",
              "maritalstatus    0\n",
              "occupation       0\n",
              "relationship     0\n",
              "race             0\n",
              "sex              0\n",
              "capitalgain      0\n",
              "capitalloss      0\n",
              "hoursperweek     0\n",
              "native           0\n",
              "Salary           0\n",
              "dtype: int64"
            ]
          },
          "metadata": {},
          "execution_count": 8
        }
      ],
      "source": [
        "test_data.isna().sum()"
      ]
    },
    {
      "cell_type": "code",
      "execution_count": 9,
      "metadata": {
        "colab": {
          "base_uri": "https://localhost:8080/"
        },
        "id": "xJ1eb4dvon8h",
        "outputId": "520dda87-f5ff-44bb-ea72-9ac6c2f86962"
      },
      "outputs": [
        {
          "output_type": "execute_result",
          "data": {
            "text/plain": [
              "age               int64\n",
              "workclass        object\n",
              "education        object\n",
              "educationno       int64\n",
              "maritalstatus    object\n",
              "occupation       object\n",
              "relationship     object\n",
              "race             object\n",
              "sex              object\n",
              "capitalgain       int64\n",
              "capitalloss       int64\n",
              "hoursperweek      int64\n",
              "native           object\n",
              "Salary           object\n",
              "dtype: object"
            ]
          },
          "metadata": {},
          "execution_count": 9
        }
      ],
      "source": [
        "train_data.dtypes"
      ]
    },
    {
      "cell_type": "code",
      "execution_count": 10,
      "metadata": {
        "colab": {
          "base_uri": "https://localhost:8080/"
        },
        "id": "-9L4WtfTon8i",
        "outputId": "ffcc1b0c-cd87-46c1-95a0-1f69399d151a"
      },
      "outputs": [
        {
          "output_type": "stream",
          "name": "stdout",
          "text": [
            "workclass\n",
            " Private             22285\n",
            " Self-emp-not-inc     2499\n",
            " Local-gov            2067\n",
            " State-gov            1279\n",
            " Self-emp-inc         1074\n",
            " Federal-gov           943\n",
            " Without-pay            14\n",
            "Name: workclass, dtype: int64\n",
            "\n",
            "\n",
            "education\n",
            " HS-grad         9840\n",
            " Some-college    6677\n",
            " Bachelors       5044\n",
            " Masters         1627\n",
            " Assoc-voc       1307\n",
            " 11th            1048\n",
            " Assoc-acdm      1008\n",
            " 10th             820\n",
            " 7th-8th          557\n",
            " Prof-school      542\n",
            " 9th              455\n",
            " 12th             377\n",
            " Doctorate        375\n",
            " 5th-6th          288\n",
            " 1st-4th          151\n",
            " Preschool         45\n",
            "Name: education, dtype: int64\n",
            "\n",
            "\n",
            "maritalstatus\n",
            " Married-civ-spouse       14065\n",
            " Never-married             9725\n",
            " Divorced                  4214\n",
            " Separated                  939\n",
            " Widowed                    827\n",
            " Married-spouse-absent      370\n",
            " Married-AF-spouse           21\n",
            "Name: maritalstatus, dtype: int64\n",
            "\n",
            "\n",
            "occupation\n",
            " Prof-specialty       4038\n",
            " Craft-repair         4030\n",
            " Exec-managerial      3992\n",
            " Adm-clerical         3721\n",
            " Sales                3584\n",
            " Other-service        3212\n",
            " Machine-op-inspct    1965\n",
            " Transport-moving     1572\n",
            " Handlers-cleaners    1350\n",
            " Farming-fishing       989\n",
            " Tech-support          912\n",
            " Protective-serv       644\n",
            " Priv-house-serv       143\n",
            " Armed-Forces            9\n",
            "Name: occupation, dtype: int64\n",
            "\n",
            "\n",
            "relationship\n",
            " Husband           12463\n",
            " Not-in-family      7726\n",
            " Own-child          4466\n",
            " Unmarried          3212\n",
            " Wife               1406\n",
            " Other-relative      888\n",
            "Name: relationship, dtype: int64\n",
            "\n",
            "\n",
            "race\n",
            " White                 25932\n",
            " Black                  2817\n",
            " Asian-Pac-Islander      895\n",
            " Amer-Indian-Eskimo      286\n",
            " Other                   231\n",
            "Name: race, dtype: int64\n",
            "\n",
            "\n",
            "sex\n",
            " Male      20380\n",
            " Female     9781\n",
            "Name: sex, dtype: int64\n",
            "\n",
            "\n",
            "native\n",
            " United-States                 27504\n",
            " Mexico                          610\n",
            " Philippines                     188\n",
            " Germany                         128\n",
            " Puerto-Rico                     109\n",
            " Canada                          107\n",
            " El-Salvador                     100\n",
            " India                           100\n",
            " Cuba                             92\n",
            " England                          86\n",
            " Jamaica                          80\n",
            " South                            71\n",
            " Italy                            68\n",
            " China                            68\n",
            " Dominican-Republic               67\n",
            " Vietnam                          64\n",
            " Guatemala                        63\n",
            " Japan                            59\n",
            " Columbia                         56\n",
            " Poland                           56\n",
            " Taiwan                           42\n",
            " Haiti                            42\n",
            " Iran                             42\n",
            " Portugal                         34\n",
            " Nicaragua                        33\n",
            " Peru                             30\n",
            " Greece                           29\n",
            " France                           27\n",
            " Ecuador                          27\n",
            " Ireland                          24\n",
            " Hong                             19\n",
            " Trinadad&Tobago                  18\n",
            " Cambodia                         18\n",
            " Laos                             17\n",
            " Thailand                         17\n",
            " Yugoslavia                       16\n",
            " Outlying-US(Guam-USVI-etc)       14\n",
            " Hungary                          13\n",
            " Honduras                         12\n",
            " Scotland                         11\n",
            "Name: native, dtype: int64\n",
            "\n",
            "\n",
            "Salary\n",
            " <=50K    22653\n",
            " >50K      7508\n",
            "Name: Salary, dtype: int64\n",
            "\n",
            "\n"
          ]
        }
      ],
      "source": [
        "# frequency for categorical fields \n",
        "category_col =['workclass', 'education','maritalstatus', 'occupation', 'relationship', 'race', 'sex', 'native', 'Salary'] \n",
        "for c in category_col:\n",
        "    print (c)\n",
        "    print (train_data[c].value_counts())\n",
        "    print('\\n')"
      ]
    },
    {
      "cell_type": "code",
      "execution_count": 11,
      "metadata": {
        "colab": {
          "base_uri": "https://localhost:8080/",
          "height": 1000
        },
        "id": "bI1sK56Lon8i",
        "outputId": "b05cf58c-75ed-47bc-ca85-046c35c4aae4"
      },
      "outputs": [
        {
          "output_type": "display_data",
          "data": {
            "image/png": "[encoded data removed]",
            "text/plain": [
              "<Figure size 1080x576 with 1 Axes>"
            ]
          },
          "metadata": {}
        },
        {
          "output_type": "display_data",
          "data": {
            "image/png": "[encoded data removed]",
            "text/plain": [
              "<Figure size 1080x576 with 1 Axes>"
            ]
          },
          "metadata": {}
        },
        {
          "output_type": "display_data",
          "data": {
            "image/png": "[encoded data removed]",
            "text/plain": [
              "<Figure size 1080x576 with 1 Axes>"
            ]
          },
          "metadata": {}
        },
        {
          "output_type": "display_data",
          "data": {
            "image/png": "[encoded data removed]",
            "text/plain": [
              "<Figure size 1080x576 with 1 Axes>"
            ]
          },
          "metadata": {}
        },
        {
          "output_type": "display_data",
          "data": {
            "image/png": "[encoded data removed]",
            "text/plain": [
              "<Figure size 1080x576 with 1 Axes>"
            ]
          },
          "metadata": {}
        },
        {
          "output_type": "display_data",
          "data": {
            "image/png": "[encoded data removed]",
            "text/plain": [
              "<Figure size 1080x576 with 1 Axes>"
            ]
          },
          "metadata": {}
        },
        {
          "output_type": "display_data",
          "data": {
            "image/png": "[encoded data removed]",
            "text/plain": [
              "<Figure size 1080x576 with 1 Axes>"
            ]
          },
          "metadata": {}
        },
        {
          "output_type": "display_data",
          "data": {
            "image/png": "[encoded data removed]",
            "text/plain": [
              "<Figure size 1080x576 with 1 Axes>"
            ]
          },
          "metadata": {}
        }
      ],
      "source": [
        "\n",
        "# countplot for all categorical columns\n",
        "import seaborn as sns\n",
        "sns.set(rc={'figure.figsize':(15,8)})\n",
        "cat_col = ['workclass', 'education','maritalstatus', 'occupation', 'relationship', 'race', 'sex','Salary']\n",
        "for col in cat_col:\n",
        "    plt.figure() #this creates a new figure on which your plot will appear\n",
        "    sns.countplot(x = col, data = train_data, palette = 'Set3');"
      ]
    },
    {
      "cell_type": "code",
      "execution_count": 12,
      "metadata": {
        "colab": {
          "base_uri": "https://localhost:8080/"
        },
        "id": "BHObQjwZon8i",
        "outputId": "0fb131d2-bc15-4d12-edab-1bbfdc888d5d"
      },
      "outputs": [
        {
          "output_type": "stream",
          "name": "stdout",
          "text": [
            "workclass [' State-gov' ' Self-emp-not-inc' ' Private' ' Federal-gov' ' Local-gov'\n",
            " ' Self-emp-inc' ' Without-pay']\n",
            "education [' Bachelors' ' HS-grad' ' 11th' ' Masters' ' 9th' ' Some-college'\n",
            " ' Assoc-acdm' ' 7th-8th' ' Doctorate' ' Assoc-voc' ' Prof-school'\n",
            " ' 5th-6th' ' 10th' ' Preschool' ' 12th' ' 1st-4th']\n",
            "maritalstatus [' Never-married' ' Married-civ-spouse' ' Divorced'\n",
            " ' Married-spouse-absent' ' Separated' ' Married-AF-spouse' ' Widowed']\n",
            "occupation [' Adm-clerical' ' Exec-managerial' ' Handlers-cleaners' ' Prof-specialty'\n",
            " ' Other-service' ' Sales' ' Transport-moving' ' Farming-fishing'\n",
            " ' Machine-op-inspct' ' Tech-support' ' Craft-repair' ' Protective-serv'\n",
            " ' Armed-Forces' ' Priv-house-serv']\n",
            "relationship [' Not-in-family' ' Husband' ' Wife' ' Own-child' ' Unmarried'\n",
            " ' Other-relative']\n",
            "race [' White' ' Black' ' Asian-Pac-Islander' ' Amer-Indian-Eskimo' ' Other']\n",
            "sex [' Male' ' Female']\n",
            "native [' United-States' ' Cuba' ' Jamaica' ' India' ' Mexico' ' Puerto-Rico'\n",
            " ' Honduras' ' England' ' Canada' ' Germany' ' Iran' ' Philippines'\n",
            " ' Poland' ' Columbia' ' Cambodia' ' Thailand' ' Ecuador' ' Laos'\n",
            " ' Taiwan' ' Haiti' ' Portugal' ' Dominican-Republic' ' El-Salvador'\n",
            " ' France' ' Guatemala' ' Italy' ' China' ' South' ' Japan' ' Yugoslavia'\n",
            " ' Peru' ' Outlying-US(Guam-USVI-etc)' ' Scotland' ' Trinadad&Tobago'\n",
            " ' Greece' ' Nicaragua' ' Vietnam' ' Hong' ' Ireland' ' Hungary']\n",
            "Salary [' <=50K' ' >50K']\n"
          ]
        }
      ],
      "source": [
        "# printing unique values from each categoricla columns\n",
        "\n",
        "print('workclass',train_data.workclass.unique())\n",
        "print('education',train_data.education.unique())\n",
        "print('maritalstatus',train_data['maritalstatus'].unique())\n",
        "print('occupation',train_data.occupation.unique())\n",
        "print('relationship',train_data.relationship.unique())\n",
        "print('race',train_data.race.unique())\n",
        "print('sex',train_data.sex.unique())\n",
        "print('native',train_data['native'].unique())\n",
        "print('Salary',train_data.Salary.unique())"
      ]
    },
    {
      "cell_type": "code",
      "execution_count": 13,
      "metadata": {
        "scrolled": true,
        "colab": {
          "base_uri": "https://localhost:8080/",
          "height": 112
        },
        "id": "FsKG_4SEon8j",
        "outputId": "deeb3f33-9a33-40fe-ec41-bbda3dcfeddb"
      },
      "outputs": [
        {
          "output_type": "execute_result",
          "data": {
            "text/html": [
              "\n",
              "  <div id=\"df-1bb9a666-8ee9-4414-9617-6d00c907bdc3\">\n",
              "    <div class=\"colab-df-container\">\n",
              "      <div>\n",
              "<style scoped>\n",
              "    .dataframe tbody tr th:only-of-type {\n",
              "        vertical-align: middle;\n",
              "    }\n",
              "\n",
              "    .dataframe tbody tr th {\n",
              "        vertical-align: top;\n",
              "    }\n",
              "\n",
              "    .dataframe thead th {\n",
              "        text-align: right;\n",
              "    }\n",
              "</style>\n",
              "<table border=\"1\" class=\"dataframe\">\n",
              "  <thead>\n",
              "    <tr style=\"text-align: right;\">\n",
              "      <th></th>\n",
              "      <th>Salary</th>\n",
              "      <th>age</th>\n",
              "    </tr>\n",
              "  </thead>\n",
              "  <tbody>\n",
              "    <tr>\n",
              "      <th>1</th>\n",
              "      <td>&gt;50K</td>\n",
              "      <td>43.959110</td>\n",
              "    </tr>\n",
              "    <tr>\n",
              "      <th>0</th>\n",
              "      <td>&lt;=50K</td>\n",
              "      <td>36.608264</td>\n",
              "    </tr>\n",
              "  </tbody>\n",
              "</table>\n",
              "</div>\n",
              "      <button class=\"colab-df-convert\" onclick=\"convertToInteractive('df-1bb9a666-8ee9-4414-9617-6d00c907bdc3')\"\n",
              "              title=\"Convert this dataframe to an interactive table.\"\n",
              "              style=\"display:none;\">\n",
              "        \n",
              "  <svg xmlns=\"http://www.w3.org/2000/svg\" height=\"24px\"viewBox=\"0 0 24 24\"\n",
              "       width=\"24px\">\n",
              "    <path d=\"M0 0h24v24H0V0z\" fill=\"none\"/>\n",
              "    <path d=\"M18.56 5.44l.94 2.06.94-2.06 2.06-.94-2.06-.94-.94-2.06-.94 2.06-2.06.94zm-11 1L8.5 8.5l.94-2.06 2.06-.94-2.06-.94L8.5 2.5l-.94 2.06-2.06.94zm10 10l.94 2.06.94-2.06 2.06-.94-2.06-.94-.94-2.06-.94 2.06-2.06.94z\"/><path d=\"M17.41 7.96l-1.37-1.37c-.4-.4-.92-.59-1.43-.59-.52 0-1.04.2-1.43.59L10.3 9.45l-7.72 7.72c-.78.78-.78 2.05 0 2.83L4 21.41c.39.39.9.59 1.41.59.51 0 1.02-.2 1.41-.59l7.78-7.78 2.81-2.81c.8-.78.8-2.07 0-2.86zM5.41 20L4 18.59l7.72-7.72 1.47 1.35L5.41 20z\"/>\n",
              "  </svg>\n",
              "      </button>\n",
              "      \n",
              "  <style>\n",
              "    .colab-df-container {\n",
              "      display:flex;\n",
              "      flex-wrap:wrap;\n",
              "      gap: 12px;\n",
              "    }\n",
              "\n",
              "    .colab-df-convert {\n",
              "      background-color: #E8F0FE;\n",
              "      border: none;\n",
              "      border-radius: 50%;\n",
              "      cursor: pointer;\n",
              "      display: none;\n",
              "      fill: #1967D2;\n",
              "      height: 32px;\n",
              "      padding: 0 0 0 0;\n",
              "      width: 32px;\n",
              "    }\n",
              "\n",
              "    .colab-df-convert:hover {\n",
              "      background-color: #E2EBFA;\n",
              "      box-shadow: 0px 1px 2px rgba(60, 64, 67, 0.3), 0px 1px 3px 1px rgba(60, 64, 67, 0.15);\n",
              "      fill: #174EA6;\n",
              "    }\n",
              "\n",
              "    [theme=dark] .colab-df-convert {\n",
              "      background-color: #3B4455;\n",
              "      fill: #D2E3FC;\n",
              "    }\n",
              "\n",
              "    [theme=dark] .colab-df-convert:hover {\n",
              "      background-color: #434B5C;\n",
              "      box-shadow: 0px 1px 3px 1px rgba(0, 0, 0, 0.15);\n",
              "      filter: drop-shadow(0px 1px 2px rgba(0, 0, 0, 0.3));\n",
              "      fill: #FFFFFF;\n",
              "    }\n",
              "  </style>\n",
              "\n",
              "      <script>\n",
              "        const buttonEl =\n",
              "          document.querySelector('#df-1bb9a666-8ee9-4414-9617-6d00c907bdc3 button.colab-df-convert');\n",
              "        buttonEl.style.display =\n",
              "          google.colab.kernel.accessAllowed ? 'block' : 'none';\n",
              "\n",
              "        async function convertToInteractive(key) {\n",
              "          const element = document.querySelector('#df-1bb9a666-8ee9-4414-9617-6d00c907bdc3');\n",
              "          const dataTable =\n",
              "            await google.colab.kernel.invokeFunction('convertToInteractive',\n",
              "                                                     [key], {});\n",
              "          if (!dataTable) return;\n",
              "\n",
              "          const docLinkHtml = 'Like what you see? Visit the ' +\n",
              "            '<a target=\"_blank\" href=https://colab.research.google.com/notebooks/data_table.ipynb>data table notebook</a>'\n",
              "            + ' to learn more about interactive tables.';\n",
              "          element.innerHTML = '';\n",
              "          dataTable['output_type'] = 'display_data';\n",
              "          await google.colab.output.renderOutput(dataTable, element);\n",
              "          const docLink = document.createElement('div');\n",
              "          docLink.innerHTML = docLinkHtml;\n",
              "          element.appendChild(docLink);\n",
              "        }\n",
              "      </script>\n",
              "    </div>\n",
              "  </div>\n",
              "  "
            ],
            "text/plain": [
              "   Salary        age\n",
              "1    >50K  43.959110\n",
              "0   <=50K  36.608264"
            ]
          },
          "metadata": {},
          "execution_count": 13
        }
      ],
      "source": [
        "train_data[['Salary', 'age']].groupby(['Salary'], as_index=False).mean().sort_values(by='age', ascending=False)"
      ]
    },
    {
      "cell_type": "code",
      "execution_count": 14,
      "metadata": {
        "colab": {
          "base_uri": "https://localhost:8080/",
          "height": 530
        },
        "id": "jwCHARReon8j",
        "outputId": "e3521d47-51a9-4ace-fd88-71abba6d20f7"
      },
      "outputs": [
        {
          "output_type": "execute_result",
          "data": {
            "text/plain": [
              "<matplotlib.axes._subplots.AxesSubplot at 0x7f503f4a6650>"
            ]
          },
          "metadata": {},
          "execution_count": 14
        },
        {
          "output_type": "display_data",
          "data": {
            "text/plain": [
              "<Figure size 1440x360 with 0 Axes>"
            ]
          },
          "metadata": {}
        },
        {
          "output_type": "display_data",
          "data": {
            "image/png": "[encoded data removed]",
            "text/plain": [
              "<Figure size 1080x576 with 2 Axes>"
            ]
          },
          "metadata": {}
        }
      ],
      "source": [
        "plt.style.use('seaborn-whitegrid')\n",
        "x, y, hue = \"race\", \"prop\", \"sex\"\n",
        "#hue_order = [\"Male\", \"Female\"]\n",
        "plt.figure(figsize=(20,5)) \n",
        "f, axes = plt.subplots(1, 2)\n",
        "sns.countplot(x=x, hue=hue, data=train_data, ax=axes[0])\n",
        "\n",
        "prop_df = (train_data[x]\n",
        "           .groupby(train_data[hue])\n",
        "           .value_counts(normalize=True)\n",
        "           .rename(y)\n",
        "           .reset_index())\n",
        "\n",
        "sns.barplot(x=x, y=y, hue=hue, data=prop_df, ax=axes[1])"
      ]
    },
    {
      "cell_type": "code",
      "execution_count": 15,
      "metadata": {
        "scrolled": false,
        "colab": {
          "base_uri": "https://localhost:8080/",
          "height": 832
        },
        "id": "GbhVUmHron8k",
        "outputId": "c1ca9a01-d550-476e-b1fc-8446dc1e3209"
      },
      "outputs": [
        {
          "output_type": "stream",
          "name": "stderr",
          "text": [
            "/usr/local/lib/python3.7/dist-packages/seaborn/axisgrid.py:2182: UserWarning: The `size` parameter has been renamed to `height`; please update your code.\n",
            "  warnings.warn(msg, UserWarning)\n",
            "/usr/local/lib/python3.7/dist-packages/seaborn/_decorators.py:43: FutureWarning: Pass the following variables as keyword args: x, y. From version 0.12, the only valid positional argument will be `data`, and passing other arguments without an explicit keyword will result in an error or misinterpretation.\n",
            "  FutureWarning\n"
          ]
        },
        {
          "output_type": "execute_result",
          "data": {
            "text/plain": [
              "<matplotlib.axes._subplots.AxesSubplot at 0x7f503f3b6fd0>"
            ]
          },
          "metadata": {},
          "execution_count": 15
        },
        {
          "output_type": "display_data",
          "data": {
            "image/png": "[encoded data removed]",
            "text/plain": [
              "<Figure size 720x720 with 3 Axes>"
            ]
          },
          "metadata": {}
        }
      ],
      "source": [
        "g = sns.jointplot(x = 'age', \n",
        "              y = 'hoursperweek',\n",
        "              data = train_data, \n",
        "              kind = 'hex', \n",
        "              cmap= 'hot', \n",
        "              size=10)\n",
        "\n",
        "#http://stackoverflow.com/questions/33288830/how-to-plot-regression-line-on-hexbins-with-seaborn\n",
        "sns.regplot(train_data.age, train_data['hoursperweek'], ax=g.ax_joint, scatter=False, color='grey')"
      ]
    },
    {
      "cell_type": "markdown",
      "metadata": {
        "id": "HjmIedW2on8k"
      },
      "source": [
        "#### Feature encoding"
      ]
    },
    {
      "cell_type": "code",
      "execution_count": 16,
      "metadata": {
        "id": "f-Nf18dMon8k"
      },
      "outputs": [],
      "source": [
        "from sklearn.preprocessing import LabelEncoder"
      ]
    },
    {
      "cell_type": "code",
      "execution_count": 17,
      "metadata": {
        "colab": {
          "base_uri": "https://localhost:8080/",
          "height": 270
        },
        "id": "yCC2ct1Ion8k",
        "outputId": "3af9bb58-4ccd-4fba-829a-0c48f2d9c126"
      },
      "outputs": [
        {
          "output_type": "execute_result",
          "data": {
            "text/html": [
              "\n",
              "  <div id=\"df-e87e436c-ae21-427a-81d9-8f965d77b97d\">\n",
              "    <div class=\"colab-df-container\">\n",
              "      <div>\n",
              "<style scoped>\n",
              "    .dataframe tbody tr th:only-of-type {\n",
              "        vertical-align: middle;\n",
              "    }\n",
              "\n",
              "    .dataframe tbody tr th {\n",
              "        vertical-align: top;\n",
              "    }\n",
              "\n",
              "    .dataframe thead th {\n",
              "        text-align: right;\n",
              "    }\n",
              "</style>\n",
              "<table border=\"1\" class=\"dataframe\">\n",
              "  <thead>\n",
              "    <tr style=\"text-align: right;\">\n",
              "      <th></th>\n",
              "      <th>age</th>\n",
              "      <th>workclass</th>\n",
              "      <th>education</th>\n",
              "      <th>educationno</th>\n",
              "      <th>maritalstatus</th>\n",
              "      <th>occupation</th>\n",
              "      <th>relationship</th>\n",
              "      <th>race</th>\n",
              "      <th>sex</th>\n",
              "      <th>capitalgain</th>\n",
              "      <th>capitalloss</th>\n",
              "      <th>hoursperweek</th>\n",
              "      <th>native</th>\n",
              "      <th>Salary</th>\n",
              "    </tr>\n",
              "  </thead>\n",
              "  <tbody>\n",
              "    <tr>\n",
              "      <th>0</th>\n",
              "      <td>22</td>\n",
              "      <td>5</td>\n",
              "      <td>9</td>\n",
              "      <td>12</td>\n",
              "      <td>4</td>\n",
              "      <td>0</td>\n",
              "      <td>1</td>\n",
              "      <td>4</td>\n",
              "      <td>1</td>\n",
              "      <td>24</td>\n",
              "      <td>0</td>\n",
              "      <td>39</td>\n",
              "      <td>37</td>\n",
              "      <td>0</td>\n",
              "    </tr>\n",
              "    <tr>\n",
              "      <th>1</th>\n",
              "      <td>33</td>\n",
              "      <td>4</td>\n",
              "      <td>9</td>\n",
              "      <td>12</td>\n",
              "      <td>2</td>\n",
              "      <td>3</td>\n",
              "      <td>0</td>\n",
              "      <td>4</td>\n",
              "      <td>1</td>\n",
              "      <td>0</td>\n",
              "      <td>0</td>\n",
              "      <td>12</td>\n",
              "      <td>37</td>\n",
              "      <td>0</td>\n",
              "    </tr>\n",
              "    <tr>\n",
              "      <th>2</th>\n",
              "      <td>21</td>\n",
              "      <td>2</td>\n",
              "      <td>11</td>\n",
              "      <td>8</td>\n",
              "      <td>0</td>\n",
              "      <td>5</td>\n",
              "      <td>1</td>\n",
              "      <td>4</td>\n",
              "      <td>1</td>\n",
              "      <td>0</td>\n",
              "      <td>0</td>\n",
              "      <td>39</td>\n",
              "      <td>37</td>\n",
              "      <td>0</td>\n",
              "    </tr>\n",
              "    <tr>\n",
              "      <th>3</th>\n",
              "      <td>36</td>\n",
              "      <td>2</td>\n",
              "      <td>1</td>\n",
              "      <td>6</td>\n",
              "      <td>2</td>\n",
              "      <td>5</td>\n",
              "      <td>0</td>\n",
              "      <td>2</td>\n",
              "      <td>1</td>\n",
              "      <td>0</td>\n",
              "      <td>0</td>\n",
              "      <td>39</td>\n",
              "      <td>37</td>\n",
              "      <td>0</td>\n",
              "    </tr>\n",
              "    <tr>\n",
              "      <th>4</th>\n",
              "      <td>11</td>\n",
              "      <td>2</td>\n",
              "      <td>9</td>\n",
              "      <td>12</td>\n",
              "      <td>2</td>\n",
              "      <td>9</td>\n",
              "      <td>5</td>\n",
              "      <td>2</td>\n",
              "      <td>0</td>\n",
              "      <td>0</td>\n",
              "      <td>0</td>\n",
              "      <td>39</td>\n",
              "      <td>4</td>\n",
              "      <td>0</td>\n",
              "    </tr>\n",
              "  </tbody>\n",
              "</table>\n",
              "</div>\n",
              "      <button class=\"colab-df-convert\" onclick=\"convertToInteractive('df-e87e436c-ae21-427a-81d9-8f965d77b97d')\"\n",
              "              title=\"Convert this dataframe to an interactive table.\"\n",
              "              style=\"display:none;\">\n",
              "        \n",
              "  <svg xmlns=\"http://www.w3.org/2000/svg\" height=\"24px\"viewBox=\"0 0 24 24\"\n",
              "       width=\"24px\">\n",
              "    <path d=\"M0 0h24v24H0V0z\" fill=\"none\"/>\n",
              "    <path d=\"M18.56 5.44l.94 2.06.94-2.06 2.06-.94-2.06-.94-.94-2.06-.94 2.06-2.06.94zm-11 1L8.5 8.5l.94-2.06 2.06-.94-2.06-.94L8.5 2.5l-.94 2.06-2.06.94zm10 10l.94 2.06.94-2.06 2.06-.94-2.06-.94-.94-2.06-.94 2.06-2.06.94z\"/><path d=\"M17.41 7.96l-1.37-1.37c-.4-.4-.92-.59-1.43-.59-.52 0-1.04.2-1.43.59L10.3 9.45l-7.72 7.72c-.78.78-.78 2.05 0 2.83L4 21.41c.39.39.9.59 1.41.59.51 0 1.02-.2 1.41-.59l7.78-7.78 2.81-2.81c.8-.78.8-2.07 0-2.86zM5.41 20L4 18.59l7.72-7.72 1.47 1.35L5.41 20z\"/>\n",
              "  </svg>\n",
              "      </button>\n",
              "      \n",
              "  <style>\n",
              "    .colab-df-container {\n",
              "      display:flex;\n",
              "      flex-wrap:wrap;\n",
              "      gap: 12px;\n",
              "    }\n",
              "\n",
              "    .colab-df-convert {\n",
              "      background-color: #E8F0FE;\n",
              "      border: none;\n",
              "      border-radius: 50%;\n",
              "      cursor: pointer;\n",
              "      display: none;\n",
              "      fill: #1967D2;\n",
              "      height: 32px;\n",
              "      padding: 0 0 0 0;\n",
              "      width: 32px;\n",
              "    }\n",
              "\n",
              "    .colab-df-convert:hover {\n",
              "      background-color: #E2EBFA;\n",
              "      box-shadow: 0px 1px 2px rgba(60, 64, 67, 0.3), 0px 1px 3px 1px rgba(60, 64, 67, 0.15);\n",
              "      fill: #174EA6;\n",
              "    }\n",
              "\n",
              "    [theme=dark] .colab-df-convert {\n",
              "      background-color: #3B4455;\n",
              "      fill: #D2E3FC;\n",
              "    }\n",
              "\n",
              "    [theme=dark] .colab-df-convert:hover {\n",
              "      background-color: #434B5C;\n",
              "      box-shadow: 0px 1px 3px 1px rgba(0, 0, 0, 0.15);\n",
              "      filter: drop-shadow(0px 1px 2px rgba(0, 0, 0, 0.3));\n",
              "      fill: #FFFFFF;\n",
              "    }\n",
              "  </style>\n",
              "\n",
              "      <script>\n",
              "        const buttonEl =\n",
              "          document.querySelector('#df-e87e436c-ae21-427a-81d9-8f965d77b97d button.colab-df-convert');\n",
              "        buttonEl.style.display =\n",
              "          google.colab.kernel.accessAllowed ? 'block' : 'none';\n",
              "\n",
              "        async function convertToInteractive(key) {\n",
              "          const element = document.querySelector('#df-e87e436c-ae21-427a-81d9-8f965d77b97d');\n",
              "          const dataTable =\n",
              "            await google.colab.kernel.invokeFunction('convertToInteractive',\n",
              "                                                     [key], {});\n",
              "          if (!dataTable) return;\n",
              "\n",
              "          const docLinkHtml = 'Like what you see? Visit the ' +\n",
              "            '<a target=\"_blank\" href=https://colab.research.google.com/notebooks/data_table.ipynb>data table notebook</a>'\n",
              "            + ' to learn more about interactive tables.';\n",
              "          element.innerHTML = '';\n",
              "          dataTable['output_type'] = 'display_data';\n",
              "          await google.colab.output.renderOutput(dataTable, element);\n",
              "          const docLink = document.createElement('div');\n",
              "          docLink.innerHTML = docLinkHtml;\n",
              "          element.appendChild(docLink);\n",
              "        }\n",
              "      </script>\n",
              "    </div>\n",
              "  </div>\n",
              "  "
            ],
            "text/plain": [
              "   age  workclass  education  ...  hoursperweek  native  Salary\n",
              "0   22          5          9  ...            39      37       0\n",
              "1   33          4          9  ...            12      37       0\n",
              "2   21          2         11  ...            39      37       0\n",
              "3   36          2          1  ...            39      37       0\n",
              "4   11          2          9  ...            39       4       0\n",
              "\n",
              "[5 rows x 14 columns]"
            ]
          },
          "metadata": {},
          "execution_count": 17
        }
      ],
      "source": [
        "train_data = train_data.apply(LabelEncoder().fit_transform)\n",
        "train_data.head()"
      ]
    },
    {
      "cell_type": "code",
      "execution_count": 18,
      "metadata": {
        "colab": {
          "base_uri": "https://localhost:8080/",
          "height": 270
        },
        "id": "ElztQb5Mon8l",
        "outputId": "32fac955-e621-4ca6-8f25-6cfff0e3663e"
      },
      "outputs": [
        {
          "output_type": "execute_result",
          "data": {
            "text/html": [
              "\n",
              "  <div id=\"df-a573a997-1508-4158-8a20-f80abaabeb41\">\n",
              "    <div class=\"colab-df-container\">\n",
              "      <div>\n",
              "<style scoped>\n",
              "    .dataframe tbody tr th:only-of-type {\n",
              "        vertical-align: middle;\n",
              "    }\n",
              "\n",
              "    .dataframe tbody tr th {\n",
              "        vertical-align: top;\n",
              "    }\n",
              "\n",
              "    .dataframe thead th {\n",
              "        text-align: right;\n",
              "    }\n",
              "</style>\n",
              "<table border=\"1\" class=\"dataframe\">\n",
              "  <thead>\n",
              "    <tr style=\"text-align: right;\">\n",
              "      <th></th>\n",
              "      <th>age</th>\n",
              "      <th>workclass</th>\n",
              "      <th>education</th>\n",
              "      <th>educationno</th>\n",
              "      <th>maritalstatus</th>\n",
              "      <th>occupation</th>\n",
              "      <th>relationship</th>\n",
              "      <th>race</th>\n",
              "      <th>sex</th>\n",
              "      <th>capitalgain</th>\n",
              "      <th>capitalloss</th>\n",
              "      <th>hoursperweek</th>\n",
              "      <th>native</th>\n",
              "      <th>Salary</th>\n",
              "    </tr>\n",
              "  </thead>\n",
              "  <tbody>\n",
              "    <tr>\n",
              "      <th>0</th>\n",
              "      <td>8</td>\n",
              "      <td>2</td>\n",
              "      <td>1</td>\n",
              "      <td>6</td>\n",
              "      <td>4</td>\n",
              "      <td>6</td>\n",
              "      <td>3</td>\n",
              "      <td>2</td>\n",
              "      <td>1</td>\n",
              "      <td>0</td>\n",
              "      <td>0</td>\n",
              "      <td>39</td>\n",
              "      <td>37</td>\n",
              "      <td>0</td>\n",
              "    </tr>\n",
              "    <tr>\n",
              "      <th>1</th>\n",
              "      <td>21</td>\n",
              "      <td>2</td>\n",
              "      <td>11</td>\n",
              "      <td>8</td>\n",
              "      <td>2</td>\n",
              "      <td>4</td>\n",
              "      <td>0</td>\n",
              "      <td>4</td>\n",
              "      <td>1</td>\n",
              "      <td>0</td>\n",
              "      <td>0</td>\n",
              "      <td>49</td>\n",
              "      <td>37</td>\n",
              "      <td>0</td>\n",
              "    </tr>\n",
              "    <tr>\n",
              "      <th>2</th>\n",
              "      <td>11</td>\n",
              "      <td>1</td>\n",
              "      <td>7</td>\n",
              "      <td>11</td>\n",
              "      <td>2</td>\n",
              "      <td>10</td>\n",
              "      <td>0</td>\n",
              "      <td>4</td>\n",
              "      <td>1</td>\n",
              "      <td>0</td>\n",
              "      <td>0</td>\n",
              "      <td>39</td>\n",
              "      <td>37</td>\n",
              "      <td>1</td>\n",
              "    </tr>\n",
              "    <tr>\n",
              "      <th>3</th>\n",
              "      <td>27</td>\n",
              "      <td>2</td>\n",
              "      <td>15</td>\n",
              "      <td>9</td>\n",
              "      <td>2</td>\n",
              "      <td>6</td>\n",
              "      <td>0</td>\n",
              "      <td>2</td>\n",
              "      <td>1</td>\n",
              "      <td>87</td>\n",
              "      <td>0</td>\n",
              "      <td>39</td>\n",
              "      <td>37</td>\n",
              "      <td>1</td>\n",
              "    </tr>\n",
              "    <tr>\n",
              "      <th>4</th>\n",
              "      <td>17</td>\n",
              "      <td>2</td>\n",
              "      <td>0</td>\n",
              "      <td>5</td>\n",
              "      <td>4</td>\n",
              "      <td>7</td>\n",
              "      <td>1</td>\n",
              "      <td>4</td>\n",
              "      <td>1</td>\n",
              "      <td>0</td>\n",
              "      <td>0</td>\n",
              "      <td>29</td>\n",
              "      <td>37</td>\n",
              "      <td>0</td>\n",
              "    </tr>\n",
              "  </tbody>\n",
              "</table>\n",
              "</div>\n",
              "      <button class=\"colab-df-convert\" onclick=\"convertToInteractive('df-a573a997-1508-4158-8a20-f80abaabeb41')\"\n",
              "              title=\"Convert this dataframe to an interactive table.\"\n",
              "              style=\"display:none;\">\n",
              "        \n",
              "  <svg xmlns=\"http://www.w3.org/2000/svg\" height=\"24px\"viewBox=\"0 0 24 24\"\n",
              "       width=\"24px\">\n",
              "    <path d=\"M0 0h24v24H0V0z\" fill=\"none\"/>\n",
              "    <path d=\"M18.56 5.44l.94 2.06.94-2.06 2.06-.94-2.06-.94-.94-2.06-.94 2.06-2.06.94zm-11 1L8.5 8.5l.94-2.06 2.06-.94-2.06-.94L8.5 2.5l-.94 2.06-2.06.94zm10 10l.94 2.06.94-2.06 2.06-.94-2.06-.94-.94-2.06-.94 2.06-2.06.94z\"/><path d=\"M17.41 7.96l-1.37-1.37c-.4-.4-.92-.59-1.43-.59-.52 0-1.04.2-1.43.59L10.3 9.45l-7.72 7.72c-.78.78-.78 2.05 0 2.83L4 21.41c.39.39.9.59 1.41.59.51 0 1.02-.2 1.41-.59l7.78-7.78 2.81-2.81c.8-.78.8-2.07 0-2.86zM5.41 20L4 18.59l7.72-7.72 1.47 1.35L5.41 20z\"/>\n",
              "  </svg>\n",
              "      </button>\n",
              "      \n",
              "  <style>\n",
              "    .colab-df-container {\n",
              "      display:flex;\n",
              "      flex-wrap:wrap;\n",
              "      gap: 12px;\n",
              "    }\n",
              "\n",
              "    .colab-df-convert {\n",
              "      background-color: #E8F0FE;\n",
              "      border: none;\n",
              "      border-radius: 50%;\n",
              "      cursor: pointer;\n",
              "      display: none;\n",
              "      fill: #1967D2;\n",
              "      height: 32px;\n",
              "      padding: 0 0 0 0;\n",
              "      width: 32px;\n",
              "    }\n",
              "\n",
              "    .colab-df-convert:hover {\n",
              "      background-color: #E2EBFA;\n",
              "      box-shadow: 0px 1px 2px rgba(60, 64, 67, 0.3), 0px 1px 3px 1px rgba(60, 64, 67, 0.15);\n",
              "      fill: #174EA6;\n",
              "    }\n",
              "\n",
              "    [theme=dark] .colab-df-convert {\n",
              "      background-color: #3B4455;\n",
              "      fill: #D2E3FC;\n",
              "    }\n",
              "\n",
              "    [theme=dark] .colab-df-convert:hover {\n",
              "      background-color: #434B5C;\n",
              "      box-shadow: 0px 1px 3px 1px rgba(0, 0, 0, 0.15);\n",
              "      filter: drop-shadow(0px 1px 2px rgba(0, 0, 0, 0.3));\n",
              "      fill: #FFFFFF;\n",
              "    }\n",
              "  </style>\n",
              "\n",
              "      <script>\n",
              "        const buttonEl =\n",
              "          document.querySelector('#df-a573a997-1508-4158-8a20-f80abaabeb41 button.colab-df-convert');\n",
              "        buttonEl.style.display =\n",
              "          google.colab.kernel.accessAllowed ? 'block' : 'none';\n",
              "\n",
              "        async function convertToInteractive(key) {\n",
              "          const element = document.querySelector('#df-a573a997-1508-4158-8a20-f80abaabeb41');\n",
              "          const dataTable =\n",
              "            await google.colab.kernel.invokeFunction('convertToInteractive',\n",
              "                                                     [key], {});\n",
              "          if (!dataTable) return;\n",
              "\n",
              "          const docLinkHtml = 'Like what you see? Visit the ' +\n",
              "            '<a target=\"_blank\" href=https://colab.research.google.com/notebooks/data_table.ipynb>data table notebook</a>'\n",
              "            + ' to learn more about interactive tables.';\n",
              "          element.innerHTML = '';\n",
              "          dataTable['output_type'] = 'display_data';\n",
              "          await google.colab.output.renderOutput(dataTable, element);\n",
              "          const docLink = document.createElement('div');\n",
              "          docLink.innerHTML = docLinkHtml;\n",
              "          element.appendChild(docLink);\n",
              "        }\n",
              "      </script>\n",
              "    </div>\n",
              "  </div>\n",
              "  "
            ],
            "text/plain": [
              "   age  workclass  education  ...  hoursperweek  native  Salary\n",
              "0    8          2          1  ...            39      37       0\n",
              "1   21          2         11  ...            49      37       0\n",
              "2   11          1          7  ...            39      37       1\n",
              "3   27          2         15  ...            39      37       1\n",
              "4   17          2          0  ...            29      37       0\n",
              "\n",
              "[5 rows x 14 columns]"
            ]
          },
          "metadata": {},
          "execution_count": 18
        }
      ],
      "source": [
        "test_data = test_data.apply(LabelEncoder().fit_transform)\n",
        "test_data.head()"
      ]
    },
    {
      "cell_type": "markdown",
      "metadata": {
        "id": "0lAajBKZon8l"
      },
      "source": [
        "#### Test-Train-Split"
      ]
    },
    {
      "cell_type": "code",
      "execution_count": 19,
      "metadata": {
        "id": "-EpYJgQJon8l"
      },
      "outputs": [],
      "source": [
        "drop_elements = ['education', 'native', 'Salary']\n",
        "X = train_data.drop(drop_elements, axis=1)"
      ]
    },
    {
      "cell_type": "code",
      "execution_count": 20,
      "metadata": {
        "id": "ZmT5avYvon8l"
      },
      "outputs": [],
      "source": [
        "y = train_data['Salary']"
      ]
    },
    {
      "cell_type": "code",
      "execution_count": 21,
      "metadata": {
        "id": "iOOtO2geon8l"
      },
      "outputs": [],
      "source": [
        "X_train, X_test, y_train, y_test = train_test_split(X, y, test_size=0.33, random_state=42)"
      ]
    },
    {
      "cell_type": "markdown",
      "metadata": {
        "id": "krNEU6n7on8l"
      },
      "source": [
        "### Building SVM Model"
      ]
    },
    {
      "cell_type": "code",
      "execution_count": 22,
      "metadata": {
        "colab": {
          "base_uri": "https://localhost:8080/"
        },
        "id": "H42aLCezon8m",
        "outputId": "78532ed5-5935-40aa-e52c-607908e17e32"
      },
      "outputs": [
        {
          "output_type": "stream",
          "name": "stdout",
          "text": [
            "              precision    recall  f1-score   support\n",
            "\n",
            "           0       0.80      0.99      0.89      7466\n",
            "           1       0.86      0.28      0.42      2488\n",
            "\n",
            "    accuracy                           0.81      9954\n",
            "   macro avg       0.83      0.63      0.65      9954\n",
            "weighted avg       0.82      0.81      0.77      9954\n",
            "\n",
            "[[7355  111]\n",
            " [1789  699]]\n",
            "Accuracy: 0.8091219610206952\n",
            "Precision: 0.8629629629629629\n",
            "Recall: 0.2809485530546624\n"
          ]
        }
      ],
      "source": [
        "from sklearn import metrics\n",
        "\n",
        "svc = SVC()\n",
        "svc.fit(X_train, y_train)\n",
        "# make predictions\n",
        "prediction = svc.predict(X_test)\n",
        "# summarize the fit of the model\n",
        "print(metrics.classification_report(y_test, prediction))\n",
        "print(metrics.confusion_matrix(y_test, prediction))\n",
        "\n",
        "print(\"Accuracy:\",metrics.accuracy_score(y_test, prediction))\n",
        "print(\"Precision:\",metrics.precision_score(y_test, prediction))\n",
        "print(\"Recall:\",metrics.recall_score(y_test, prediction))"
      ]
    },
    {
      "cell_type": "markdown",
      "metadata": {
        "id": "plrzEPjbon8m"
      },
      "source": [
        "#### Testing it on new test data from SalaryData_Test(1).csv"
      ]
    },
    {
      "cell_type": "code",
      "execution_count": 23,
      "metadata": {
        "id": "2hUXlovjon8m"
      },
      "outputs": [],
      "source": [
        "drop_elements = ['education', 'native', 'Salary']\n",
        "X_new = test_data.drop(drop_elements, axis=1)\n",
        "\n",
        "y_new = test_data['Salary']"
      ]
    },
    {
      "cell_type": "code",
      "execution_count": 24,
      "metadata": {
        "colab": {
          "base_uri": "https://localhost:8080/"
        },
        "id": "ZW-IbO6pon8m",
        "outputId": "693de971-c888-4ba6-f366-d372dbb9cda7"
      },
      "outputs": [
        {
          "output_type": "stream",
          "name": "stdout",
          "text": [
            "              precision    recall  f1-score   support\n",
            "\n",
            "           0       0.80      0.99      0.89     11360\n",
            "           1       0.87      0.26      0.40      3700\n",
            "\n",
            "    accuracy                           0.81     15060\n",
            "   macro avg       0.84      0.63      0.65     15060\n",
            "weighted avg       0.82      0.81      0.77     15060\n",
            "\n",
            "[[11216   144]\n",
            " [ 2727   973]]\n",
            "Accuracy: 0.8093625498007968\n",
            "Precision: 0.8710832587287377\n",
            "Recall: 0.26297297297297295\n"
          ]
        }
      ],
      "source": [
        "# make predictions\n",
        "new_prediction = svc.predict(X_new)\n",
        "# summarize the fit of the model\n",
        "print(metrics.classification_report(y_new, new_prediction))\n",
        "print(metrics.confusion_matrix(y_new, new_prediction))\n",
        "\n",
        "print(\"Accuracy:\",metrics.accuracy_score(y_new, new_prediction))\n",
        "print(\"Precision:\",metrics.precision_score(y_new, new_prediction))\n",
        "print(\"Recall:\",metrics.recall_score(y_new, new_prediction))"
      ]
    },
    {
      "cell_type": "markdown",
      "metadata": {
        "id": "us_a_8RSon8n"
      },
      "source": [
        "### Building SVM model with Hyper Parameters kernel='rbf',gamma=15, C=1"
      ]
    },
    {
      "cell_type": "code",
      "execution_count": 25,
      "metadata": {
        "id": "GzYrkM43on8n"
      },
      "outputs": [],
      "source": [
        "model = SVC(kernel='rbf',gamma=15, C=1)"
      ]
    },
    {
      "cell_type": "code",
      "execution_count": 26,
      "metadata": {
        "scrolled": true,
        "colab": {
          "base_uri": "https://localhost:8080/"
        },
        "id": "7hVq2hMron8p",
        "outputId": "47f15463-e64f-42a1-dd0a-9afa61854af5"
      },
      "outputs": [
        {
          "output_type": "stream",
          "name": "stdout",
          "text": [
            "              precision    recall  f1-score   support\n",
            "\n",
            "           0       0.76      0.98      0.86      7466\n",
            "           1       0.56      0.08      0.15      2488\n",
            "\n",
            "    accuracy                           0.75      9954\n",
            "   macro avg       0.66      0.53      0.50      9954\n",
            "weighted avg       0.71      0.75      0.68      9954\n",
            "\n",
            "[[7304  162]\n",
            " [2280  208]]\n",
            "Accuracy: 0.754671488848704\n",
            "Precision: 0.5621621621621622\n",
            "Recall: 0.08360128617363344\n"
          ]
        }
      ],
      "source": [
        "model.fit(X_train, y_train)\n",
        "# make predictions\n",
        "prediction = model.predict(X_test)\n",
        "# summarize the fit of the model\n",
        "print(metrics.classification_report(y_test, prediction))\n",
        "print(metrics.confusion_matrix(y_test, prediction))\n",
        "\n",
        "print(\"Accuracy:\",metrics.accuracy_score(y_test, prediction))\n",
        "print(\"Precision:\",metrics.precision_score(y_test, prediction))\n",
        "print(\"Recall:\",metrics.recall_score(y_test, prediction))"
      ]
    },
    {
      "cell_type": "markdown",
      "metadata": {
        "id": "1AdkSz7con8q"
      },
      "source": [
        "#### Testing above model on SalaryData_Test(1).csv"
      ]
    },
    {
      "cell_type": "code",
      "execution_count": 27,
      "metadata": {
        "colab": {
          "base_uri": "https://localhost:8080/"
        },
        "id": "zL59wkShon8q",
        "outputId": "66056b67-dfb5-4c48-c880-f8bd5f6d751a"
      },
      "outputs": [
        {
          "output_type": "stream",
          "name": "stdout",
          "text": [
            "              precision    recall  f1-score   support\n",
            "\n",
            "           0       0.76      0.98      0.86     11360\n",
            "           1       0.55      0.07      0.13      3700\n",
            "\n",
            "    accuracy                           0.76     15060\n",
            "   macro avg       0.66      0.53      0.49     15060\n",
            "weighted avg       0.71      0.76      0.68     15060\n",
            "\n",
            "[[11147   213]\n",
            " [ 3437   263]]\n",
            "Accuracy: 0.7576361221779548\n",
            "Precision: 0.5525210084033614\n",
            "Recall: 0.07108108108108108\n"
          ]
        }
      ],
      "source": [
        "# make predictions\n",
        "new_prediction = model.predict(X_new)\n",
        "# summarize the fit of the model\n",
        "print(metrics.classification_report(y_new, new_prediction))\n",
        "print(metrics.confusion_matrix(y_new, new_prediction))\n",
        "\n",
        "print(\"Accuracy:\",metrics.accuracy_score(y_new, new_prediction))\n",
        "print(\"Precision:\",metrics.precision_score(y_new, new_prediction))\n",
        "print(\"Recall:\",metrics.recall_score(y_new, new_prediction))"
      ]
    },
    {
      "cell_type": "markdown",
      "metadata": {
        "id": "H7RyELMPon8q"
      },
      "source": [
        "### Building SVM model with Hyper Parameters kernel='linear',gamma=0.22, C=0.1"
      ]
    },
    {
      "cell_type": "code",
      "execution_count": 28,
      "metadata": {
        "id": "uzAw7GQ_on8q"
      },
      "outputs": [],
      "source": [
        "model_2 = SVC(kernel='linear',gamma=0.22, C=1)"
      ]
    },
    {
      "cell_type": "code",
      "execution_count": 29,
      "metadata": {
        "scrolled": true,
        "colab": {
          "base_uri": "https://localhost:8080/"
        },
        "id": "2SQOMFCHon8q",
        "outputId": "0c426295-8944-4b91-c9f5-aca73c5bdbfa"
      },
      "outputs": [
        {
          "output_type": "stream",
          "name": "stdout",
          "text": [
            "              precision    recall  f1-score   support\n",
            "\n",
            "           0       0.76      0.98      0.86      7466\n",
            "           1       0.56      0.08      0.15      2488\n",
            "\n",
            "    accuracy                           0.75      9954\n",
            "   macro avg       0.66      0.53      0.50      9954\n",
            "weighted avg       0.71      0.75      0.68      9954\n",
            "\n",
            "[[7304  162]\n",
            " [2280  208]]\n",
            "Accuracy: 0.754671488848704\n",
            "Precision: 0.5621621621621622\n",
            "Recall: 0.08360128617363344\n"
          ]
        }
      ],
      "source": [
        "model_2.fit(X_train, y_train)\n",
        "# make predictions\n",
        "prediction = model.predict(X_test)\n",
        "# summarize the fit of the model\n",
        "print(metrics.classification_report(y_test, prediction))\n",
        "print(metrics.confusion_matrix(y_test, prediction))\n",
        "\n",
        "print(\"Accuracy:\",metrics.accuracy_score(y_test, prediction))\n",
        "print(\"Precision:\",metrics.precision_score(y_test, prediction))\n",
        "print(\"Recall:\",metrics.recall_score(y_test, prediction))"
      ]
    },
    {
      "cell_type": "markdown",
      "metadata": {
        "id": "B_I291cYon8q"
      },
      "source": [
        "#### Testing above model on SalaryData_Test(1).csv"
      ]
    },
    {
      "cell_type": "code",
      "execution_count": 30,
      "metadata": {
        "colab": {
          "base_uri": "https://localhost:8080/"
        },
        "id": "dwgMbvQwon8r",
        "outputId": "0b711ca1-9b9b-462c-abcc-4848d3528723"
      },
      "outputs": [
        {
          "output_type": "stream",
          "name": "stdout",
          "text": [
            "              precision    recall  f1-score   support\n",
            "\n",
            "           0       0.81      0.97      0.88     11360\n",
            "           1       0.77      0.29      0.42      3700\n",
            "\n",
            "    accuracy                           0.80     15060\n",
            "   macro avg       0.79      0.63      0.65     15060\n",
            "weighted avg       0.80      0.80      0.77     15060\n",
            "\n",
            "[[11044   316]\n",
            " [ 2639  1061]]\n",
            "Accuracy: 0.8037848605577689\n",
            "Precision: 0.7705156136528686\n",
            "Recall: 0.28675675675675677\n"
          ]
        }
      ],
      "source": [
        "# make predictions\n",
        "new_prediction = model_2.predict(X_new)\n",
        "# summarize the fit of the model\n",
        "print(metrics.classification_report(y_new, new_prediction))\n",
        "print(metrics.confusion_matrix(y_new, new_prediction))\n",
        "\n",
        "print(\"Accuracy:\",metrics.accuracy_score(y_new, new_prediction))\n",
        "print(\"Precision:\",metrics.precision_score(y_new, new_prediction))\n",
        "print(\"Recall:\",metrics.recall_score(y_new, new_prediction))"
      ]
    },
    {
      "cell_type": "code",
      "source": [
        "\n"
      ],
      "metadata": {
        "id": "8lKa1FtFqmoa"
      },
      "execution_count": null,
      "outputs": []
    }
  ],
  "metadata": {
    "kernelspec": {
      "display_name": "Python 3",
      "language": "python",
      "name": "python3"
    },
    "language_info": {
      "codemirror_mode": {
        "name": "ipython",
        "version": 3
      },
      "file_extension": ".py",
      "mimetype": "text/x-python",
      "name": "python",
      "nbconvert_exporter": "python",
      "pygments_lexer": "ipython3",
      "version": "3.8.5"
    },
    "colab": {
      "name": " Support Vector Machine - 02.ipynb",
      "provenance": [],
      "include_colab_link": true
    }
  },
  "nbformat": 4,
  "nbformat_minor": 0
}