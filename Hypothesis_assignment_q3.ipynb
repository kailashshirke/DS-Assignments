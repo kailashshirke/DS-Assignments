{
  "nbformat": 4,
  "nbformat_minor": 0,
  "metadata": {
    "colab": {
      "name": "Hypothesis assignment q3.ipynb",
      "provenance": [],
      "authorship_tag": "ABX9TyOuytzHrqLlOYv0oeGqycEd",
      "include_colab_link": true
    },
    "kernelspec": {
      "name": "python3",
      "display_name": "Python 3"
    },
    "language_info": {
      "name": "python"
    }
  },
  "cells": [
    {
      "cell_type": "markdown",
      "metadata": {
        "id": "view-in-github",
        "colab_type": "text"
      },
      "source": [
        "<a href=\"https://colab.research.google.com/github/kailashshirke/DS-Assignments/blob/main/Hypothesis_assignment_q3.ipynb\" target=\"_parent\"><img src=\"https://colab.research.google.com/assets/colab-badge.svg\" alt=\"Open In Colab\"/></a>"
      ]
    },
    {
      "cell_type": "code",
      "execution_count": 1,
      "metadata": {
        "id": "3oxbKb09Him5"
      },
      "outputs": [],
      "source": [
        "import pandas as pd\n",
        "import numpy as np\n",
        "from scipy import stats"
      ]
    },
    {
      "cell_type": "code",
      "source": [
        "df = pd.read_csv(\"BuyerRatio.csv\")"
      ],
      "metadata": {
        "id": "MyKs45QQHxjP"
      },
      "execution_count": 2,
      "outputs": []
    },
    {
      "cell_type": "code",
      "source": [
        "stats.chi2_contingency([df[\"East\"], df[\"West\"], df[\"North\"], df[\"South\"]])"
      ],
      "metadata": {
        "colab": {
          "base_uri": "https://localhost:8080/"
        },
        "id": "oR1SPuXKH3pY",
        "outputId": "245f5451-eb5c-4062-8feb-5af8c9917190"
      },
      "execution_count": 3,
      "outputs": [
        {
          "output_type": "execute_result",
          "data": {
            "text/plain": [
              "(1.5959455386610577,\n",
              " 0.6603094907091882,\n",
              " 3,\n",
              " array([[  42.76531299,  442.23468701],\n",
              "        [ 146.81287862, 1518.18712138],\n",
              "        [ 131.11756787, 1355.88243213],\n",
              "        [  72.30424052,  747.69575948]]))"
            ]
          },
          "metadata": {},
          "execution_count": 3
        }
      ]
    },
    {
      "cell_type": "code",
      "source": [
        ""
      ],
      "metadata": {
        "id": "2bkzwvH0IIqS"
      },
      "execution_count": null,
      "outputs": []
    }
  ]
}