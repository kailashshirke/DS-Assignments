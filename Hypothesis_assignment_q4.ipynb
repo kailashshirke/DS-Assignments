{
  "nbformat": 4,
  "nbformat_minor": 0,
  "metadata": {
    "colab": {
      "name": "Hypothesis assignment q4.ipynb",
      "provenance": [],
      "authorship_tag": "ABX9TyO1zYv1R1UpD5YzIERw0FqZ",
      "include_colab_link": true
    },
    "kernelspec": {
      "name": "python3",
      "display_name": "Python 3"
    },
    "language_info": {
      "name": "python"
    }
  },
  "cells": [
    {
      "cell_type": "markdown",
      "metadata": {
        "id": "view-in-github",
        "colab_type": "text"
      },
      "source": [
        "<a href=\"https://colab.research.google.com/github/kailashshirke/DS-Assignments/blob/main/Hypothesis_assignment_q4.ipynb\" target=\"_parent\"><img src=\"https://colab.research.google.com/assets/colab-badge.svg\" alt=\"Open In Colab\"/></a>"
      ]
    },
    {
      "cell_type": "code",
      "execution_count": 1,
      "metadata": {
        "id": "tYhz3bauLRsO"
      },
      "outputs": [],
      "source": [
        "import pandas as pd\n",
        "import numpy as np\n",
        "from scipy import stats"
      ]
    },
    {
      "cell_type": "code",
      "source": [
        "df = pd.read_csv(\"Costomer+OrderForm.csv\")"
      ],
      "metadata": {
        "id": "fDr3M0DKLks2"
      },
      "execution_count": 2,
      "outputs": []
    },
    {
      "cell_type": "code",
      "source": [
        "stats.chi2_contingency([df['Phillippines'].value_counts(), df['Indonesia'].value_counts(), df['Malta'].value_counts(), df['India'].value_counts()])"
      ],
      "metadata": {
        "colab": {
          "base_uri": "https://localhost:8080/"
        },
        "id": "u6A6n_KbLsb3",
        "outputId": "f9aad5b2-c7e2-44ba-8d05-45fadc702bf7"
      },
      "execution_count": 3,
      "outputs": [
        {
          "output_type": "execute_result",
          "data": {
            "text/plain": [
              "(3.8589606858203545, 0.2771020991233144, 3, array([[271.75,  28.25],\n",
              "        [271.75,  28.25],\n",
              "        [271.75,  28.25],\n",
              "        [271.75,  28.25]]))"
            ]
          },
          "metadata": {},
          "execution_count": 3
        }
      ]
    },
    {
      "cell_type": "code",
      "source": [
        ""
      ],
      "metadata": {
        "id": "ApIVlqW7L1LZ"
      },
      "execution_count": null,
      "outputs": []
    }
  ]
}